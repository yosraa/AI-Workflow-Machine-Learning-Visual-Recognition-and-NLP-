{
 "cells": [
  {
   "cell_type": "markdown",
   "metadata": {},
   "source": [
    "# End of Module Quiz 2\n"
   ]
  },
  {
   "cell_type": "raw",
   "metadata": {},
   "source": [
    "1. True/False. Bagging and boosting ensemble methods both use only decision trees as base classifiers. The difference is in the bias and variance of the individual trees."
   ]
  },
  {
   "cell_type": "raw",
   "metadata": {},
   "source": [
    "False: Bagging and boosting ensemble methods are not limited to decision trees as a choice for the base classifier. We showed in the bagging example the use of KNNs and SVMs as base classifiers. Please review the lesson on tree-based methods for more details."
   ]
  },
  {
   "cell_type": "raw",
   "metadata": {},
   "source": [
    "2. True/False. A decision tree classifier is useful as a model for the AAVAIL subscriber churn data.\n",
    "True\n"
   ]
  },
  {
   "attachments": {},
   "cell_type": "raw",
   "metadata": {},
   "source": [
    "3. Which of the following was not discussed as a tunable parameter of a neural network?\n",
    "\n",
    "-Hardware availability\n",
    "-Activation functions:sigmoid,tanh,softmax ReLu,leakyRelu\n",
    "-Regularization techniques: weight decay, early stopping, dropout\n",
    "-Training method: Lost function, learning rate, batch size ,number of epochs\n",
    "-Structure :the number of hidden layers, the number of nodes in each layer\n",
    "Ans :Hardware availability\n"
   ]
  },
  {
   "cell_type": "raw",
   "metadata": {},
   "source": [
    "4. True/False. Transfer learning is a recent advancement to come out of the field of reinforcement learning.\n",
    "Ans: False=  \n",
    "Transfer learning is a strategy where you leverage vetted neural network architectures and pre-trained weights to get good performance on limited data. Reinforcement learning is an area of machine learning like supervised and unsupervised learning. It generally uses neural network feature extraction and prediction abilities to learn from an environment. Please review the lesson on neural networks for more details\n"
   ]
  },
  {
   "cell_type": "raw",
   "metadata": {},
   "source": [
    "5.When training a custom classifier in Watson Visual Recognition the negative images should be:\n",
    "Ans: As visually similar to the positive images =\n",
    "When we train a custom classifier using the Watson Visual Recognition service a best practice is to include both positive and negative examples. Crucially, to increase the accuracy of the classifier, the negative examples should be as visually similar to the positive examples as possible. Please review the Watson Visual Recognition tutorial for more details.\n"
   ]
  },
  {
   "cell_type": "raw",
   "metadata": {},
   "source": [
    "6. True/False. The Watson Visual Recognition service can only be accessed using an API key via Python or curl.\n",
    "Ans: False= Other SDKs are available including Swift, Unity, Ruby, Java, Node, Go and .net. See the Watson Visual Recognition docs for examples of each.\n",
    "\n"
   ]
  },
  {
   "cell_type": "raw",
   "metadata": {},
   "source": [
    "7.Which of the following use cases is the least appropriate use case for a convolutional neural network?\n",
    "Ans: Image composition\n",
    "\n",
    "Image composition was never discussed in the context of neural networks or as part of these materials. Image composition is more generally called photography composition and it deals with arranging the elements in an image to suit an idea or accomplish a goal. All of the other applications were mentioned as practical applications of CNNs.\n",
    "\n",
    "Image classification\n",
    "Image segmentation\n",
    "Image retrieval\n",
    "Object detection\n",
    "\n"
   ]
  },
  {
   "cell_type": "code",
   "execution_count": null,
   "metadata": {},
   "outputs": [],
   "source": [
    "8. True/False. A typical convolutional neural network is constructed using a combination of convolutional, pooling and dense layers.\n",
    "\n",
    "True"
   ]
  }
 ],
 "metadata": {
  "kernelspec": {
   "display_name": "Python 3",
   "language": "python",
   "name": "python3"
  },
  "language_info": {
   "codemirror_mode": {
    "name": "ipython",
    "version": 3
   },
   "file_extension": ".py",
   "mimetype": "text/x-python",
   "name": "python",
   "nbconvert_exporter": "python",
   "pygments_lexer": "ipython3",
   "version": "3.7.4"
  },
  "widgets": {
   "application/vnd.jupyter.widget-state+json": {
    "state": {},
    "version_major": 2,
    "version_minor": 0
   }
  }
 },
 "nbformat": 4,
 "nbformat_minor": 2
}
