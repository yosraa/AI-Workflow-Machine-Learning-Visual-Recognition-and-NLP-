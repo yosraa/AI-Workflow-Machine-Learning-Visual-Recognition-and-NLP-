{
 "cells": [
  {
   "cell_type": "code",
   "execution_count": null,
   "metadata": {},
   "outputs": [],
   "source": [
    "1.If we have a situation where false positive is not as potentially costly as a false negative say flagging comments for manual review based on suspected unlawful activity, which of the following is the best approach to consider?\n",
    "\n",
    "-Only look at the f-score of the negative class for evaluation\n",
    "-Use recall as the evaluation metric\n",
    "-Use precision as the evaluation metric\n",
    "-Set beta to 0.5 in the fscore(error answer)\n",
    "-Set beta to 2.0 in the fscore\n",
    "Ans:\n",
    "=\n",
    "Fβ=(1+β2)precision×recall(β2×precision)+recall\n",
    "If we set, for example, \\beta = 2β=2 then the metric weighs recall higher than precision. Conversely, with \\beta = 0.5β=0.5 precision is given more importance than recall. Please review the evaluation metrics lesson for more details.\n",
    "\n",
    "\n",
    "\n"
   ]
  },
  {
   "cell_type": "code",
   "execution_count": null,
   "metadata": {},
   "outputs": [],
   "source": [
    "2.True/False. All classifiers in scikit-learn do multi-class classification out-of-the-box. They classifiers can differ in their approach though (e.g one-vs-all or one-vs-one).\n",
    "Ans:True"
   ]
  },
  {
   "cell_type": "code",
   "execution_count": null,
   "metadata": {},
   "outputs": [],
   "source": [
    "3. Which of the following is not an example of a generalized linear model (GLM)?\n",
    "\n",
    "-ANOVA\n",
    "-t-test\n",
    "-F-test\n",
    "-KNN regression\n",
    "-Logistic regression\n",
    "\n",
    "Ans:KNN=\n",
    "The K nearest neighbors algorithm can be effectively used for regression, but it is not an example of a Generalized linear model. The generalized linear models are special cases of the general linear models. Please review the linear models lesson for more details."
   ]
  },
  {
   "cell_type": "code",
   "execution_count": null,
   "metadata": {},
   "outputs": [],
   "source": [
    "4.True/False. Models in the generalized linear mixture model (GLMM) family like multilevel models are generally optimized using sophisticated techniques like MCMC sampling.\n",
    "\n",
    "Ans: True\n",
    "\n"
   ]
  },
  {
   "cell_type": "code",
   "execution_count": null,
   "metadata": {},
   "outputs": [],
   "source": [
    "5.When you use Watson Services like Watson Natural Language Understanding via the Python SDK, what are the three items that need to be saved? These items are generally saved on a local machine and included in scripts and notebooks as imported variables.\n",
    "\n",
    "Ans: service API key, service version, service URL=\n",
    "The service uses JSON to pass messages, but there is no map to keep track of. The IAMAuthenticator is the name of a class used from the SDK to access the services. The URL, the API key and the version are the three critical pieces of information to keep track of. Please review the Watson Natural Language Understanding tutorial for more details\n",
    "\n"
   ]
  },
  {
   "cell_type": "code",
   "execution_count": null,
   "metadata": {},
   "outputs": [],
   "source": [
    "6.  Which of the following does not describe a feature of the Watson Natural Language Understanding service?\n",
    "-Perform document classification tasks using a custom model built from text\n",
    "-Identify high-level concepts that aren’t necessarily directly referenced in the text\n",
    "-Find people, places, events, and other types of entities mentioned in your content\n",
    "-Recognize when two entities are related, and identify the type of relation\n",
    "-Analyze the sentiment toward specific target phrases and the sentiment of the document as a whole\n",
    "\n",
    "Ans: Perform document classification tasks using a custom model built from text\n",
    "= The natural language understanding service can build custom models for entities and relations, but classification is not one of the features. If needed there is a natural language classification Watson service. All of the other answers describe readily accessible features. Please review the Watson Natural Language Understanding tutorial for more details."
   ]
  },
  {
   "cell_type": "code",
   "execution_count": null,
   "metadata": {},
   "outputs": [],
   "source": [
    "7. While completing the performance and business metrics case study you investigated the relationship between churn and accuracy. What can we say about how the website version might be affecting the rate of churn?\n",
    "-The website version tends to increase churn\n",
    "-The website version tends to decrease churn\n",
    "-The website version did not appear to effect churn\n",
    "-The website version played a strong role in explaining churn\n",
    "-The website version directly affected the accuracy\n",
    "Ans: The website version played a strong role in explaining churn=Please review the solution file attached to the performance and business metrics case study for more details, but the website version and the accuracy together can be used to expalin 100% of the variance in the model. This makes sense if you look carefully at the function used to create the data. The role of the website version both positively and negatively affected churn, which can be seen in the plot."
   ]
  },
  {
   "cell_type": "code",
   "execution_count": null,
   "metadata": {},
   "outputs": [],
   "source": [
    "8.Which of the following is not an example of a relevant question when tuning a NLP classification pipeline?\n",
    "-Should I use bag-of-words or a vector embedding representation?\n",
    "-Which stop words do I include?\n",
    "-Which n-grams do I include?\n",
    "-Should I use a TF or a tf-idf transformation?\n",
    "-Should I use RMSE or MAE as an evaluation metric?\n",
    "Ans: Should I use RMSE or MAE as an evaluation metric?"
   ]
  }
 ],
 "metadata": {
  "kernelspec": {
   "display_name": "Python 3",
   "language": "python",
   "name": "python3"
  },
  "language_info": {
   "codemirror_mode": {
    "name": "ipython",
    "version": 3
   },
   "file_extension": ".py",
   "mimetype": "text/x-python",
   "name": "python",
   "nbconvert_exporter": "python",
   "pygments_lexer": "ipython3",
   "version": "3.7.4"
  }
 },
 "nbformat": 4,
 "nbformat_minor": 2
}
